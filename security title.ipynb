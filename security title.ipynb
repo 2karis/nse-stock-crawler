{
 "cells": [
  {
   "cell_type": "code",
   "execution_count": 1,
   "metadata": {},
   "outputs": [],
   "source": [
    "import mechanicalsoup\n",
    "from bs4 import BeautifulSoup\n",
    "import re\n",
    "import MySQLdb\n"
   ]
  },
  {
   "cell_type": "code",
   "execution_count": 14,
   "metadata": {},
   "outputs": [
    {
     "name": "stdout",
     "output_type": "stream",
     "text": [
      "\n"
     ]
    }
   ],
   "source": [
    "file = open('table.txt', 'r') \n",
    "print()"
   ]
  },
  {
   "cell_type": "code",
   "execution_count": 11,
   "metadata": {},
   "outputs": [],
   "source": [
    "soup = BeautifulSoup(str(file.read()), 'lxml')\n",
    "script = soup.find_all(\"script\")\n"
   ]
  },
  {
   "cell_type": "code",
   "execution_count": 15,
   "metadata": {},
   "outputs": [],
   "source": [
    "jss =  str(script[0])\n",
    "str_replace_qoutes = jss.replace('\\\"', '\\\\\"')\n",
    "str_minus_semi_colon = str_replace_qoutes.replace(\";\",\" \")\n",
    "str_minus_sdarr = str_minus_semi_colon.replace(\"sDArr\",\"\")\n",
    "str_minus_equal = str_minus_sdarr.replace(\"=\",\"\")\n",
    "\n",
    "#everything before sdarr\n",
    "head, sep, tail = str_minus_equal.partition('(jsiScripsInMW,50) ')\n",
    "#everything after sdarr\n",
    "head2, sep2, tail2 = tail.partition('  jsiMWrefreshDelay')\n",
    "result = re.sub(\"[\\(\\[].*?[\\)\\]]\", \"\", head2)\n",
    "arr = result.split(\"' '\")\n",
    "arr[0] = arr[0].replace(\"\\'\",\"\")\n",
    "arr[-1] = arr[-1].replace(\"\\'\",\"\")"
   ]
  },
  {
   "cell_type": "code",
   "execution_count": 28,
   "metadata": {},
   "outputs": [],
   "source": [
    "sdarr = []\n",
    "sec = []\n",
    "count =1\n",
    "for i in range(len(arr)):\n",
    "    count = count + 1\n",
    "    sec.append(arr[i])\n",
    "    if count ==20:\n",
    "        count = 1\n",
    "        sdarr.append(sec)\n",
    "        sec =[]"
   ]
  },
  {
   "cell_type": "code",
   "execution_count": 29,
   "metadata": {},
   "outputs": [],
   "source": [
    "def sortlist(mylist):\n",
    "    newlist=[]\n",
    "    for item in mylist:\n",
    "        if float(item) > 0:\n",
    "            newlist.append(item)\n",
    "    \n",
    "    if newlist == []:\n",
    "        newlist = [str(0.00), str(0.00)]\n",
    "    return newlist"
   ]
  },
  {
   "cell_type": "code",
   "execution_count": 31,
   "metadata": {},
   "outputs": [
    {
     "name": "stdout",
     "output_type": "stream",
     "text": [
      "ACCS ACCESSKENYA GROUP LTD\n",
      "ADSS ATLAS DEVELOPMENT & SUPPORT SERVICES\n",
      "BAMB BAMBURI CEMENT LTD\n",
      "BAT BRITISH AMERICAN TOBACCO KENYA LTD\n",
      "BAUM A.BAUMANN & CO.LTD\n",
      "BBK BARCLAYS BANK LTD\n",
      "BERG CROWN BERGER LTD\n",
      "BOC B.O.C KENYA LTD\n",
      "BRIT BRITISH-AMERICAN INVESTMENTS CO.LTD ORD 0.10\n",
      "CABL E.A.CABLES LTD\n",
      "CARB CARBACID INVESTMENTS LTD\n",
      "CFC CFC STANBIC HOLDINGS LTD\n",
      "CFCI CFC INSURANCE HOLDINGS LTD ORD.1.00\n",
      "CG CAR & GENERAL  LTD\n",
      "CIC CIC INSURANCE GROUP\n",
      "CITY CITY TRUST LTD\n",
      "CMC CMC HOLDINGS LTD\n",
      "COOP THE CO-OPERATIVE BANK OF KENYA LTD\n",
      "DTK DIAMOND TRUST BANK KENYA LTD\n",
      "ARM ATHI RIVER MINING\n",
      "DTKR DTK RIGHTS\n",
      "EABL EAST AFRICAN BREWERIES LTD\n",
      "EGAD EAAGADS LTD\n",
      "EQT EQUITY BANK LTD\n",
      "EVRD EVEREADY EAST AFRICA LTD\n",
      "FIRE SAMEER AFRICA LTD\n",
      "FTGH FLAME TREE GROUP\n",
      "HAFR HOME AFRICA\n",
      "HBL HUTCHINGS BIEMER LTD\n",
      "HFCK HOUSING FINANCE CO LTD\n",
      "I&M I&M HOLDINGS LTD\n",
      "ICDC CENTUM INVESTMENT CO LTD\n",
      "JUB JUBILEE HOLDINGS LTD\n",
      "KAPC KAPCHORUA TEA CO. LTD ORD\n",
      "KCB KENYA COMMERCIAL BANK LTD\n",
      "KEGN KENGEN LTD\n",
      "KENO KENOLKOBIL LTD\n",
      "KNRE KENYA RE-INSURANCE CORPORATION LTD\n",
      "KPLC KENYA POWER & LIGHTING  CO LTD\n",
      "KQ KENYA AIRWAYS LTD\n",
      "KUKZ KAKUZI\n",
      "KURV KURWITU VENTURES LTD\n",
      "LIMT LIMURU TEA CO. LTD\n",
      "LKL LONGHORN KENYA LTD\n",
      "MASH MARSHALLS  LTD\n",
      "MSC MUMIAS SUGAR CO. LTD\n",
      "NBK NATIONAL BANK OF KENYA LTD\n",
      "NIC NIC BANK LTD\n",
      "NICR NIC BANK LTD RIGHTS\n",
      "NMG NATION MEDIA GROUP\n",
      "NSE NAIROBI STOCK EXCHANGE\n",
      "OCH OLYMPIA CAPITAL HOLDINGS LTD\n",
      "OCHR OLYMPIA CAPITAL HOLDINGS LTD RIGHTS\n",
      "ORCH KENYA ORCHARDS LTD\n",
      "PAFR PAN AFRICA INSURANCE HOLDINGS LTD\n",
      "PORT E.A.PORTLAND CEMENT LTD\n",
      "REA REA VIPINGO PLANTATIONS LTD\n",
      "SASN SASINI LTD\n",
      "SCAN SCANGROUP  LTD\n",
      "SCBK STANDARD CHARTERED BANK LTD\n",
      "SCOM SAFARICOM LTD\n",
      "SGL STANDARD GROUP  LTD\n",
      "TCL TRANS-CENTURY LTD ORD 0.50 AIMS\n",
      "TOTL TOTAL KENYA LTD\n",
      "TPS TPS EASTERN AFRICA  LTD\n",
      "UCHM UCHUMI SUPERMARKET LTD\n",
      "UNGA UNGA GROUP LTD\n",
      "UTK UNILEVER TEA KENYA LTD\n",
      "WTK WILLIAMSON TEA KENYA LTD\n",
      "XPRS EXPRESS LTD\n"
     ]
    }
   ],
   "source": [
    "for row in sdarr:\n",
    "    print(row[0], row[17])"
   ]
  },
  {
   "cell_type": "code",
   "execution_count": 32,
   "metadata": {},
   "outputs": [],
   "source": [
    "sql = \"INSERT INTO security (security, title) VALUES \"\n",
    "for row in sdarr:\n",
    "    sql = sql + \"( '\"+row[0]+\"', '\"+ row[17]+\"'),\"\n",
    "sql = sql[:-1] + \";\"    \n",
    "db = MySQLdb.connect(host=\"localhost\",    # your host, usually localhost\n",
    "                 user=\"root\",         # your username\n",
    "                 passwd=\"\",  # your password\n",
    "                 db=\"oozacoke_scratch\")        # name of the data base\n",
    "\n",
    "db.query(sql)\n",
    "db.commit()\n",
    "\n",
    "db.close()"
   ]
  },
  {
   "cell_type": "code",
   "execution_count": null,
   "metadata": {},
   "outputs": [],
   "source": []
  }
 ],
 "metadata": {
  "kernelspec": {
   "display_name": "Python 3",
   "language": "python",
   "name": "python3"
  },
  "language_info": {
   "codemirror_mode": {
    "name": "ipython",
    "version": 3
   },
   "file_extension": ".py",
   "mimetype": "text/x-python",
   "name": "python",
   "nbconvert_exporter": "python",
   "pygments_lexer": "ipython3",
   "version": "3.5.2"
  }
 },
 "nbformat": 4,
 "nbformat_minor": 2
}
