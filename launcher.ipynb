{
 "cells": [
  {
   "cell_type": "code",
   "execution_count": 10,
   "metadata": {},
   "outputs": [
    {
     "name": "stdout",
     "output_type": "stream",
     "text": [
      "old\n"
     ]
    }
   ],
   "source": [
    "filename = \"user_details\"\n",
    "file = open(filename, \"r\")\n",
    "for line in file:\n",
    "   print(line)"
   ]
  },
  {
   "cell_type": "code",
   "execution_count": 9,
   "metadata": {},
   "outputs": [],
   "source": [
    "fh = open(filename,\"w\")\n",
    "fh.write(\"old\")\n",
    "fh.close()"
   ]
  },
  {
   "cell_type": "code",
   "execution_count": null,
   "metadata": {},
   "outputs": [],
   "source": [
    "#read password from file\n",
    "#open webpage\n",
    "#login\n",
    "#if login takes you to password change\n",
    "#fill karis\n",
    "#create random password\n",
    "#fill both twice\n",
    "#submit form\n",
    "#save new password to file\n",
    "#read password from file\n",
    "#open loginpage\n",
    "#login\n",
    "#crawl ticker\n",
    "#switch to market_details\n",
    "#crawl_market_details\n",
    "#wait 30 minutes\n",
    "#restart"
   ]
  }
 ],
 "metadata": {
  "kernelspec": {
   "display_name": "Python 3",
   "language": "python",
   "name": "python3"
  },
  "language_info": {
   "codemirror_mode": {
    "name": "ipython",
    "version": 3
   },
   "file_extension": ".py",
   "mimetype": "text/x-python",
   "name": "python",
   "nbconvert_exporter": "python",
   "pygments_lexer": "ipython3",
   "version": "3.5.4"
  }
 },
 "nbformat": 4,
 "nbformat_minor": 2
}
