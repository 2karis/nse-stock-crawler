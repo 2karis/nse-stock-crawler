{
 "cells": [
  {
   "cell_type": "code",
   "execution_count": 1,
   "metadata": {},
   "outputs": [],
   "source": [
    "import mechanicalsoup\n",
    "from bs4 import BeautifulSoup\n",
    "import re\n",
    "import time"
   ]
  },
  {
   "cell_type": "code",
   "execution_count": 2,
   "metadata": {},
   "outputs": [],
   "source": [
    "#this is for rich.co.ke\n",
    "def rich():\n",
    "    browser = browser = mechanicalsoup.StatefulBrowser()\n",
    "    browser.open(\"http://www.rich.co.ke/rcdata/nsestocks.php\")\n",
    "    page = browser.get_current_page()\n",
    "    soup = BeautifulSoup(str(page), 'lxml')\n",
    "    \n",
    "    #skip straight to the table we want and pull all the rows\n",
    "    rich_data = soup.body.find_all('table')[16].find_all(\"tr\")\n",
    "    \n",
    "    #remove the first row cause its just the heading\n",
    "    rich_data.pop(0)\n",
    "    final_data = []\n",
    "    \n",
    "    #add the data to a list as text\n",
    "    for tr in rich_data:\n",
    "        td = tr.find_all(\"td\")\n",
    "        final_data.append([str(td[1].get_text()),#name of company\n",
    "                           str(td[2].get_text()),\n",
    "                           str(td[3].get_text()),\n",
    "                           str(td[4].get_text()),\n",
    "                           str(td[6].get_text())\n",
    "                          ])\n",
    "    return final_data\n"
   ]
  },
  {
   "cell_type": "code",
   "execution_count": 3,
   "metadata": {},
   "outputs": [],
   "source": [
    "def wazua():\n",
    "    browser = browser = mechanicalsoup.StatefulBrowser()\n",
    "    browser.open(\"http://www.wazua.co.ke/investor/latestprices.aspx\")\n",
    "    page = browser.get_current_page()\n",
    "    soup = BeautifulSoup(str(page), 'lxml')\n",
    "    \n",
    "    #skip straight to table we need\n",
    "    data = soup.body.find_all('table')[37].find_all(\"tr\")\n",
    "    \n",
    "    #remove the first row cause its just the heading\n",
    "    data.pop(0)\n",
    "    final_data = []\n",
    "    \n",
    "    #somethimg\n",
    "    for tr in data:\n",
    "        td = tr.find_all(\"td\")\n",
    "        \n",
    "        #add the data to a list as text and remove \\n characters with replace()\n",
    "        final_data.append([str(td[0].get_text().replace(\"\\n\",\"\")),\n",
    "                           str(td[1].get_text().replace(\"\\n\",\"\")),\n",
    "                           str(td[2].get_text().replace(\"\\n\",\"\")),\n",
    "                           \n",
    "                           #hopefully they'll add some more useful info than this\n",
    "                           #str(td[3].get_text()),\n",
    "                           #str(td[4].get_text())\n",
    "                          ])\n",
    "    return final_data\n"
   ]
  },
  {
   "cell_type": "code",
   "execution_count": null,
   "metadata": {},
   "outputs": [],
   "source": []
  },
  {
   "cell_type": "code",
   "execution_count": 3,
   "metadata": {},
   "outputs": [
    {
     "data": {
      "text/plain": [
       "[['Home Afrika Ltd', '0.54', '0.59', '9.26%', '14,300'],\n",
       " ['Sanlam Kenya Plc', '18.00', '19.00', '5.56%', '10,200'],\n",
       " ['East African Cables Ltd.', '3.09', '3.25', '5.18%', '22,200'],\n",
       " ['Eaagads Ltd.', '13.50', '14.00', '3.70%', '200'],\n",
       " ['Britam Holdings Ltd', '7.12', '7.32', '2.81%', '7,500'],\n",
       " ['Crown Paints Kenya Ltd', '80.00', '82.00', '2.50%', '2,200'],\n",
       " ['WPP Scangroup', '12.70', '12.90', '1.57%', '4,700'],\n",
       " ['Nation Media Group Ltd.', '44.60', '45.25', '1.46%', '3,200'],\n",
       " ['Total Kenya Ltd.', '28.50', '28.90', '1.40%', '400'],\n",
       " ['CIC Insurance Group Limited', '3.07', '3.11', '1.30%', '52,700'],\n",
       " ['Nairobi Business Ventures Limited', '0.89', '0.90', '1.12%', '100'],\n",
       " ['Sameer Africa Ltd. (Firestone)', '3.85', '3.89', '1.04%', '9,500'],\n",
       " ['Stanbic Holdings Plc', '99.00', '100.00', '1.01%', '100'],\n",
       " ['Safaricom Ltd.', '27.65', '27.90', '0.90%', '4,050,300'],\n",
       " ['Nairobi Securities Exchange', '11.55', '11.65', '0.87%', '500'],\n",
       " ['Standard Chartered Bank Kenya Ltd.', '196.50', '197.75', '0.64%', '3,000'],\n",
       " ['Housing Finance Company Ltd.', '3.81', '3.83', '0.52%', '20,500'],\n",
       " ['Kenya Re-insurance Corp. Ltd.', '3.11', '3.12', '0.32%', '124,800'],\n",
       " ['Sasini Tea & Coffee Ltd.', '17.95', '18.00', '0.28%', '1,100'],\n",
       " ['Diamond Trust Bank (Kenya) Ltd.', '113.25', '113.25', '0.00%', '0'],\n",
       " ['Kenya Orchards', '12.60', '12.60', '0.00%', '0'],\n",
       " ['Kurwitu Ventures Ltd', '1,500.00', '1,500.00', '0.00%', '0'],\n",
       " ['Deacons (East Africa) PLC', '0.45', '0.45', '0.00%', '0'],\n",
       " ['East African Portland Cement Company', '14.45', '14.45', '0.00%', '0'],\n",
       " ['Standard Group Ltd.', '27.10', '27.10', '0.00%', '0'],\n",
       " ['Athi-River Mining Ltd.', '5.55', '5.55', '0.00%', '0'],\n",
       " ['Unga Group Ltd.', '32.90', '32.90', '0.00%', '0'],\n",
       " ['Umeme', '7.52', '7.52', '0.00%', '0'],\n",
       " ['Jubilee Insurance Company Ltd.', '370.00', '370.00', '0.00%', '700'],\n",
       " ['Kenya Oil Company Ltd.', '22.00', '22.00', '0.00%', '0'],\n",
       " ['Uchumi Supermarket', '0.33', '0.33', '0.00%', '5,700'],\n",
       " ['Bamburi Cement Company Ltd.', '108.75', '108.75', '0.00%', '0'],\n",
       " ['Express Kenya Ltd.', '6.50', '6.50', '0.00%', '0'],\n",
       " ['Kapchorua Tea Company Ltd.', '74.50', '74.50', '0.00%', '0'],\n",
       " ['FTG Holdings Ltd', '2.86', '2.86', '0.00%', '1,700'],\n",
       " ['Limuru Tea Company Ltd.', '470.00', '470.00', '0.00%', '0'],\n",
       " ['Eveready East Africa Ltd.', '1.06', '1.06', '0.00%', '1,800'],\n",
       " ['BK Group Plc', '28.00', '28.00', '0.00%', '0'],\n",
       " ['TPS Eastern Africa Ltd. (Serena)', '19.00', '19.00', '0.00%', '0'],\n",
       " ['B.O.C Kenya Ltd.', '66.75', '66.75', '0.00%', '0'],\n",
       " ['Kakuzi Ltd.', '340.00', '340.00', '0.00%', '0'],\n",
       " ['Barclays Bank of Kenya Ltd.', '10.65', '10.65', '0.00%', '119,800'],\n",
       " ['British American Tobacco Kenya Ltd.',\n",
       "  '515.00',\n",
       "  '515.00',\n",
       "  '0.00%',\n",
       "  '150,100'],\n",
       " ['Williamson Tea Kenya Ltd.', '140.00', '140.00', '0.00%', '600'],\n",
       " ['Car & General (Kenya) Ltd.', '21.40', '21.40', '0.00%', '0'],\n",
       " ['East African Breweries Ltd.', '204.00', '203.75', '-0.12%', '151,800'],\n",
       " ['Equity Group Holdings Ltd', '40.25', '40.20', '-0.12%', '2,437,400'],\n",
       " ['Centum Investment Company Ltd.', '32.30', '32.25', '-0.15%', '29,700'],\n",
       " ['Kenya Power & Lighting Company Ltd.', '3.70', '3.69', '-0.27%', '38,700'],\n",
       " ['KCB Group Ltd', '39.80', '39.65', '-0.38%', '99,500'],\n",
       " ['Co-operative Bank of Kenya Ltd.', '12.10', '12.05', '-0.41%', '258,600'],\n",
       " ['Longhorn Kenya Ltd', '7.24', '7.20', '-0.55%', '11,200'],\n",
       " ['STANLIB FAHARI I-REIT', '8.90', '8.84', '-0.67%', '400'],\n",
       " ['KenGen', '5.88', '5.80', '-1.36%', '58,100'],\n",
       " ['NIC Bank Ltd.', '29.00', '28.60', '-1.38%', '20,400'],\n",
       " ['Trans-Century', '3.30', '3.24', '-1.82%', '400'],\n",
       " ['I & M Holdings Ltd', '53.00', '52.00', '-1.89%', '3,400'],\n",
       " ['Carbacid Investments Ltd.', '8.16', '8.00', '-1.96%', '200'],\n",
       " ['National Bank of Kenya Ltd.', '3.94', '3.85', '-2.28%', '5,700'],\n",
       " ['Olympia Capital Holdings Ltd.', '2.50', '2.43', '-2.80%', '200'],\n",
       " ['Liberty Kenya Holdings.', '10.80', '10.40', '-3.70%', '10,200'],\n",
       " ['Kenya Airways Ltd.', '2.86', '2.73', '-4.55%', '58,600'],\n",
       " ['Mumias Sugar Company Ltd.', '0.34', '0.32', '-5.88%', '228,800']]"
      ]
     },
     "execution_count": 3,
     "metadata": {},
     "output_type": "execute_result"
    }
   ],
   "source": [
    "rich()"
   ]
  },
  {
   "cell_type": "code",
   "execution_count": 5,
   "metadata": {},
   "outputs": [],
   "source": [
    "#wazua()"
   ]
  },
  {
   "cell_type": "code",
   "execution_count": null,
   "metadata": {},
   "outputs": [],
   "source": [
    "#we need a way to ensure we have the companies in a list but we also don't want double entries\n",
    "#for now we'll just stick to one company( im not sure what i meant by this)"
   ]
  },
  {
   "cell_type": "code",
   "execution_count": null,
   "metadata": {},
   "outputs": [],
   "source": [
    "#this is for Daily nation \n",
    "def daily_nation():\n",
    "    links = list()\n",
    "    browser = browser = mechanicalsoup.StatefulBrowser()\n",
    "    browser.open(\"https://www.nation.co.ke/business/996-996-x0uutpz/index.html\")\n",
    "    page = browser.get_current_page()\n",
    "    soup = BeautifulSoup(str(page), 'lxml')\n",
    "    for link in soup.find_all('a'):\n",
    "        name = site[0]\n",
    "        url = site[1] + str(link.get('href'))\n",
    "        links.append([str(link.get_text()),url,name])\n",
    "    return links\n",
    "\n",
    "def collect_news_data(sites):\n",
    "    news = list()\n",
    "    for site in sites:\n",
    "        news.append(get_news_data(site))\n",
    "    return news\n",
    " \n"
   ]
  },
  {
   "cell_type": "code",
   "execution_count": null,
   "metadata": {},
   "outputs": [],
   "source": [
    "business_daily_africa():\n",
    "    "
   ]
  },
  {
   "cell_type": "code",
   "execution_count": null,
   "metadata": {},
   "outputs": [],
   "source": [
    "daily_nation()"
   ]
  },
  {
   "cell_type": "code",
   "execution_count": null,
   "metadata": {},
   "outputs": [],
   "source": [
    "def clean_up(arr):\n",
    "    cleanlist=[]\n",
    "    for item in arr:\n",
    "        cleanlist.append(item[0])\n",
    "    return cleanlist"
   ]
  },
  {
   "cell_type": "code",
   "execution_count": null,
   "metadata": {},
   "outputs": [],
   "source": [
    "bad = clean_up(rich())\n",
    "#append wazua stocks to bad\n",
    "my_list = clean_up(nation())\n",
    "#append other news sites to my_list\n",
    "\n",
    "final_list =[i for e in bad for i in my_list if e in i]"
   ]
  },
  {
   "cell_type": "code",
   "execution_count": null,
   "metadata": {},
   "outputs": [],
   "source": [
    "  \n",
    "sites = [['Daily Nation', 'https://www.nation.co.ke', 'https://www.nation.co.ke/business/996-996-x0uutpz/index.html']\n",
    "        ]"
   ]
  },
  {
   "cell_type": "code",
   "execution_count": null,
   "metadata": {},
   "outputs": [],
   "source": [
    "#this is for Daily nation \n",
    "def get_business_daily_data(site):\n",
    "    links = list()\n",
    "    browser = browser = mechanicalsoup.StatefulBrowser()\n",
    "    browser.open(site[1])\n",
    "    page = browser.get_current_page()\n",
    "    soup = BeautifulSoup(str(page), 'lxml')\n",
    "    for link in soup.find_all('a'):\n",
    "        name = site[0]\n",
    "        url = str(link.get('href'))\n",
    "        title = str(link.get(\"title\")).replace('\\n',' ')\n",
    "        links.append([title,url,name])\n",
    "    return links\n",
    "\n",
    "def collect_business_daily_news_data(sites):\n",
    "    news = list()\n",
    "    for site in sites:\n",
    "        news.append(get_business_daily_data(site))\n",
    "    return news\n",
    " "
   ]
  },
  {
   "cell_type": "code",
   "execution_count": null,
   "metadata": {},
   "outputs": [],
   "source": [
    "sites = [['Business Daily', 'https://www.businessdailyafrica.com/']\n",
    "        ]\n",
    "\n",
    "news = collect_business_daily_news_data(sites);"
   ]
  },
  {
   "cell_type": "code",
   "execution_count": null,
   "metadata": {},
   "outputs": [],
   "source": [
    "news"
   ]
  }
 ],
 "metadata": {
  "kernelspec": {
   "display_name": "Python 3",
   "language": "python",
   "name": "python3"
  },
  "language_info": {
   "codemirror_mode": {
    "name": "ipython",
    "version": 3
   },
   "file_extension": ".py",
   "mimetype": "text/x-python",
   "name": "python",
   "nbconvert_exporter": "python",
   "pygments_lexer": "ipython3",
   "version": "3.5.2"
  }
 },
 "nbformat": 4,
 "nbformat_minor": 2
}
