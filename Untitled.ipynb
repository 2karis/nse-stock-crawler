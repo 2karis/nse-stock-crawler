{
 "cells": [
  {
   "cell_type": "code",
   "execution_count": null,
   "metadata": {
    "scrolled": true
   },
   "outputs": [
    {
     "name": "stdout",
     "output_type": "stream",
     "text": [
      "bad time\n"
     ]
    }
   ],
   "source": [
    "from ticker_data import ticker_data\n",
    "from market_data import market_data\n",
    "import pytz\n",
    "import time as t\n",
    "from datetime import datetime, timedelta, date, time ,tzinfo, timezone\n",
    "\n",
    "def getTimes():\n",
    "    tz = pytz.timezone(\"Africa/Nairobi\")\n",
    "    the_date = date.today() \n",
    "\n",
    "    midnight_without_tzinfo = datetime.combine(the_date, time())\n",
    "    midnight_with_tzinfo = tz.localize(midnight_without_tzinfo)\n",
    "    midnight = midnight_with_tzinfo.astimezone(pytz.utc)\n",
    "    start = midnight_without_tzinfo + timedelta(hours=9-7, minutes=0) \n",
    "\n",
    "    end = midnight_without_tzinfo + timedelta(hours=15-7, minutes=0)\n",
    "    now = datetime.now()\n",
    "#     print(midnight_without_tzinfo)\n",
    "#     print(midnight_with_tzinfo)\n",
    "#     print(start)\n",
    "#     print(end)\n",
    "    return start, end, now\n",
    "\n",
    "def isNowInTimePeriod(startTime, endTime, nowTime):\n",
    "    if startTime < endTime:\n",
    "        return nowTime >= startTime and nowTime <= endTime\n",
    "    else: #Over midnight\n",
    "        return nowTime >= startTime or nowTime <= endTime\n",
    "def isWeekDay():\n",
    "    return datetime.today().weekday()<5\n",
    "\n",
    "startTime, endTime, nowTime = getTimes()\n",
    "\n",
    "while 1:\n",
    "    if isWeekDay() and isNowInTimePeriod(startTime, endTime, nowTime):\n",
    "        file = open('pass.txt', 'r') \n",
    "        password =str(file.read())\n",
    "        t = ticker_data('karis',password)\n",
    "        m = market_data('karis',password)\n",
    "        for s in (t, m):\n",
    "            s.login()\n",
    "            s.crawl_data()\n",
    "            del s\n",
    "            print()\n",
    "        ts = t.time()\n",
    "        st = datetime.fromtimestamp(ts).strftime('%Y-%m-%d %H:%M:%S')\n",
    "        print('time collected :', st)\n",
    "    else:\n",
    "        print(\"bad time\")\n",
    "    t.sleep(900)\n"
   ]
  },
  {
   "cell_type": "code",
   "execution_count": 7,
   "metadata": {},
   "outputs": [
    {
     "name": "stdout",
     "output_type": "stream",
     "text": [
      "2018-05-23 00:00:00\n",
      "2018-05-23 00:00:00+03:00\n",
      "2018-05-23 02:00:00\n",
      "2018-05-23 08:00:00\n",
      "2018-05-23 18:17:04.468210\n"
     ]
    }
   ],
   "source": [
    "tz = pytz.timezone(\"Africa/Nairobi\")\n",
    "the_date = date.today() \n",
    "\n",
    "midnight_without_tzinfo = datetime.combine(the_date, time())\n",
    "midnight_with_tzinfo = tz.localize(midnight_without_tzinfo)\n",
    "midnight = midnight_with_tzinfo.astimezone(pytz.utc)\n",
    "start = midnight_without_tzinfo + timedelta(hours=9-7, minutes=0) \n",
    "\n",
    "end = midnight_without_tzinfo + timedelta(hours=15-7, minutes=0)\n",
    "\n",
    "now = datetime.now()\n",
    "\n",
    "print(midnight_without_tzinfo)\n",
    "print(midnight_with_tzinfo)\n",
    "print(start)\n",
    "print(end)\n",
    "print(now)"
   ]
  },
  {
   "cell_type": "code",
   "execution_count": null,
   "metadata": {},
   "outputs": [],
   "source": []
  }
 ],
 "metadata": {
  "kernelspec": {
   "display_name": "Python 3",
   "language": "python",
   "name": "python3"
  },
  "language_info": {
   "codemirror_mode": {
    "name": "ipython",
    "version": 3
   },
   "file_extension": ".py",
   "mimetype": "text/x-python",
   "name": "python",
   "nbconvert_exporter": "python",
   "pygments_lexer": "ipython3",
   "version": "3.6.5"
  }
 },
 "nbformat": 4,
 "nbformat_minor": 2
}
