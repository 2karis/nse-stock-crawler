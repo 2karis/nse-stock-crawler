{
 "cells": [
  {
   "cell_type": "code",
   "execution_count": 5,
   "metadata": {},
   "outputs": [],
   "source": [
    "from datetime import datetime, timezone, time\n",
    "import pytz , requests\n",
    "\n",
    "def is_in_time():\n",
    "    while 1:\n",
    "        tz = pytz.timezone('Africa/Nairobi')\n",
    "        nairobi_now = datetime.now(tz).time()\n",
    "        nairobi_hour = nairobi_now.hour\n",
    "        nairobi_minute = nairobi_now.minute\n",
    "        set_time = time(3,28)\n",
    "        time_hour = set_time.hour\n",
    "        time_minute = set_time.minute\n",
    "\n",
    "        if nairobi_hour == time_hour and nairobi_minute== time_minute:\n",
    "            return 1\n",
    "    \n"
   ]
  },
  {
   "cell_type": "code",
   "execution_count": 6,
   "metadata": {},
   "outputs": [
    {
     "data": {
      "text/plain": [
       "1"
      ]
     },
     "execution_count": 6,
     "metadata": {},
     "output_type": "execute_result"
    }
   ],
   "source": [
    "is_in_time()\n",
    "    "
   ]
  },
  {
   "cell_type": "code",
   "execution_count": null,
   "metadata": {},
   "outputs": [],
   "source": [
    "def isNowInTimePeriod(startTime, endTime, nowTime):\n",
    "    if startTime < endTime:\n",
    "        return nowTime >= startTime and nowTime <= endTime\n",
    "    else: #Over midnight\n",
    "        return nowTime >= startTime or nowTime <= endTime\n",
    "\n"
   ]
  },
  {
   "cell_type": "code",
   "execution_count": null,
   "metadata": {},
   "outputs": [],
   "source": []
  },
  {
   "cell_type": "code",
   "execution_count": null,
   "metadata": {},
   "outputs": [],
   "source": [
    "check_ping()"
   ]
  },
  {
   "cell_type": "code",
   "execution_count": null,
   "metadata": {},
   "outputs": [],
   "source": []
  }
 ],
 "metadata": {
  "kernelspec": {
   "display_name": "Python 3",
   "language": "python",
   "name": "python3"
  },
  "language_info": {
   "codemirror_mode": {
    "name": "ipython",
    "version": 3
   },
   "file_extension": ".py",
   "mimetype": "text/x-python",
   "name": "python",
   "nbconvert_exporter": "python",
   "pygments_lexer": "ipython3",
   "version": "3.5.2"
  }
 },
 "nbformat": 4,
 "nbformat_minor": 2
}
