{
 "cells": [
  {
   "cell_type": "code",
   "execution_count": 1,
   "metadata": {},
   "outputs": [],
   "source": [
    "import mechanicalsoup\n",
    "from bs4 import BeautifulSoup\n",
    "import re\n",
    "import MySQLdb\n"
   ]
  },
  {
   "cell_type": "code",
   "execution_count": 2,
   "metadata": {},
   "outputs": [
    {
     "data": {
      "text/plain": [
       "<Response [200]>"
      ]
     },
     "execution_count": 2,
     "metadata": {},
     "output_type": "execute_result"
    }
   ],
   "source": [
    "browser = mechanicalsoup.StatefulBrowser()\n",
    "browser.open(\"https://onlinetrading.nse.co.ke/tradeweb111/\")"
   ]
  },
  {
   "cell_type": "code",
   "execution_count": 3,
   "metadata": {},
   "outputs": [
    {
     "ename": "FileNotFoundError",
     "evalue": "[Errno 2] No such file or directory: 'pass.txt'",
     "traceback": [
      "\u001b[1;31m---------------------------------------------------------------------------\u001b[0m",
      "\u001b[1;31mFileNotFoundError\u001b[0m                         Traceback (most recent call last)",
      "\u001b[1;32m<ipython-input-3-fd0aad35cd8e>\u001b[0m in \u001b[0;36m<module>\u001b[1;34m()\u001b[0m\n\u001b[1;32m----> 1\u001b[1;33m \u001b[0mfile\u001b[0m \u001b[1;33m=\u001b[0m \u001b[0mopen\u001b[0m\u001b[1;33m(\u001b[0m\u001b[1;34m'pass.txt'\u001b[0m\u001b[1;33m,\u001b[0m \u001b[1;34m'r'\u001b[0m\u001b[1;33m)\u001b[0m\u001b[1;33m\u001b[0m\u001b[0m\n\u001b[0m\u001b[0;32m      2\u001b[0m \u001b[0mpassword\u001b[0m \u001b[1;33m=\u001b[0m\u001b[0mstr\u001b[0m\u001b[1;33m(\u001b[0m\u001b[0mfile\u001b[0m\u001b[1;33m.\u001b[0m\u001b[0mread\u001b[0m\u001b[1;33m(\u001b[0m\u001b[1;33m)\u001b[0m\u001b[1;33m)\u001b[0m\u001b[1;33m\u001b[0m\u001b[0m\n",
      "\u001b[1;31mFileNotFoundError\u001b[0m: [Errno 2] No such file or directory: 'pass.txt'"
     ],
     "output_type": "error"
    }
   ],
   "source": [
    "file = open('pass.txt', 'r') \n",
    "password =str(file.read())"
   ]
  },
  {
   "cell_type": "code",
   "execution_count": 4,
   "metadata": {},
   "outputs": [
    {
     "data": {
      "text/plain": [
       "<Response [200]>"
      ]
     },
     "execution_count": 4,
     "metadata": {},
     "output_type": "execute_result"
    }
   ],
   "source": [
    "browser.select_form(nr=0)\n",
    "\n",
    "# User credentials\n",
    "browser['txtLogin'] = 'karis'\n",
    "browser['txtPassword'] = 'wave1236'\n",
    "\n",
    "# Login\n",
    "browser.submit_selected()\n",
    "\n"
   ]
  },
  {
   "cell_type": "code",
   "execution_count": 5,
   "metadata": {},
   "outputs": [],
   "source": [
    "browser.open('https://onlinetrading.nse.co.ke/tradeweb111/MarketDetails.aspx?wl=Default')\n",
    "#https://onlinetrading.nse.co.ke/tradeweb111/MarketDetails.aspx?wl=Default\n",
    "page = browser.get_current_page()"
   ]
  },
  {
   "cell_type": "code",
   "execution_count": 6,
   "metadata": {},
   "outputs": [],
   "source": [
    "soup = BeautifulSoup(str(page), 'lxml')\n",
    "script = soup.find_all(\"script\")\n"
   ]
  },
  {
   "cell_type": "code",
   "execution_count": 7,
   "metadata": {},
   "outputs": [],
   "source": [
    "jss =  str(script[22])\n",
    "str_replace_qoutes = jss.replace('\\\"', '\\\\\"')\n",
    "str_minus_semi_colon = str_replace_qoutes.replace(\";\",\" \")\n",
    "str_minus_sdarr = str_minus_semi_colon.replace(\"sDArr\",\"\")\n",
    "str_minus_equal = str_minus_sdarr.replace(\"=\",\"\")\n",
    "\n",
    "#everything before sdarr\n",
    "head, sep, tail = str_minus_equal.partition('(jsiScripsInMW,50) ')\n",
    "#everything after sdarr\n",
    "head2, sep2, tail2 = tail.partition('  jsiMWrefreshDelay')\n",
    "result = re.sub(\"[\\(\\[].*?[\\)\\]]\", \"\", head2)\n",
    "arr = result.split(\"' '\")\n",
    "arr[0] = arr[0].replace(\"\\'\",\"\")\n",
    "arr[-1] = arr[-1].replace(\"\\'\",\"\")"
   ]
  },
  {
   "cell_type": "code",
   "execution_count": 8,
   "metadata": {},
   "outputs": [],
   "source": [
    "sdarr = []\n",
    "sec = []\n",
    "count =1\n",
    "for i in range(len(arr)):\n",
    "    count = count + 1\n",
    "    sec.append(arr[i])\n",
    "    if count ==22:\n",
    "        count = 1\n",
    "        sdarr.append(sec)\n",
    "        sec =[]\n"
   ]
  },
  {
   "cell_type": "code",
   "execution_count": 9,
   "metadata": {},
   "outputs": [],
   "source": [
    "#print(sdarr)"
   ]
  },
  {
   "cell_type": "code",
   "execution_count": 10,
   "metadata": {},
   "outputs": [],
   "source": [
    "def sortlist(mylist):\n",
    "    newlist=[]\n",
    "    for item in mylist:\n",
    "        if float(item) > 0:\n",
    "            newlist.append(item)\n",
    "    \n",
    "    if newlist == []:\n",
    "        newlist = [str(0.00), str(0.00)]\n",
    "    return newlist"
   ]
  },
  {
   "cell_type": "code",
   "execution_count": 12,
   "metadata": {},
   "outputs": [
    {
     "name": "stdout",
     "output_type": "stream",
     "text": [
      "[{'security': 'XPRS', 'last_price': '5.95', 'demand_qty': '0', 'demand_price': '0.00', 'supply_price': '0.00', 'supply_qty': '0', 'last_qty': '0', 'high': '5.95', 'low': '5.95'}, {'security': 'KQ', 'last_price': '11.00', 'demand_qty': '0', 'demand_price': '0.00', 'supply_price': '0.00', 'supply_qty': '0', 'last_qty': '100', 'high': '11.55', 'low': '10.20'}, {'security': 'WTK', 'last_price': '139.00', 'demand_qty': '500', 'demand_price': '135.00', 'supply_price': '148.00', 'supply_qty': '1500', 'last_qty': '100', 'high': '148.00', 'low': '139.00'}, {'security': 'UTK', 'last_price': '0.00', 'demand_qty': '0', 'demand_price': '0.00', 'supply_price': '0.00', 'supply_qty': '0', 'last_qty': '0', 'high': '0.0', 'low': '0.0'}, {'security': 'UNGA', 'last_price': '39.25', 'demand_qty': '0', 'demand_price': '0.00', 'supply_price': '0.00', 'supply_qty': '0', 'last_qty': '0', 'high': '39.25', 'low': '39.25'}, {'security': 'UCHM', 'last_price': '1.45', 'demand_qty': '280400', 'demand_price': '1.40', 'supply_price': '1.50', 'supply_qty': '2000', 'last_qty': '100', 'high': '1.50', 'low': '1.45'}, {'security': 'TPS', 'last_price': '30.00', 'demand_qty': '2500', 'demand_price': '28.00', 'supply_price': '0.00', 'supply_qty': '0', 'last_qty': '300', 'high': '30.00', 'low': '28.00'}, {'security': 'TOTL', 'last_price': '28.25', 'demand_qty': '0', 'demand_price': '0.00', 'supply_price': '0.00', 'supply_qty': '0', 'last_qty': '100', 'high': '32.00', 'low': '28.25'}, {'security': 'TCL', 'last_price': '4.00', 'demand_qty': '0', 'demand_price': '0.00', 'supply_price': '4.50', 'supply_qty': '5300', 'last_qty': '100', 'high': '4.50', 'low': '4.00'}, {'security': 'SGL', 'last_price': '26.50', 'demand_qty': '0', 'demand_price': '0.00', 'supply_price': '0.00', 'supply_qty': '0', 'last_qty': '300', 'high': '29.25', 'low': '26.50'}, {'security': 'SCOM', 'last_price': '29.25', 'demand_qty': '0', 'demand_price': '0.00', 'supply_price': '0.00', 'supply_qty': '0', 'last_qty': '900', 'high': '30.00', 'low': '29.25'}, {'security': 'SCBK', 'last_price': '198.00', 'demand_qty': '2300', 'demand_price': '195.00', 'supply_price': '205.00', 'supply_qty': '6200', 'last_qty': '1000', 'high': '205.00', 'low': '197.00'}, {'security': 'SCAN', 'last_price': '15.55', 'demand_qty': '0', 'demand_price': '0.00', 'supply_price': '17.00', 'supply_qty': '16200', 'last_qty': '200', 'high': '17.00', 'low': '15.50'}, {'security': 'SASN', 'last_price': '22.00', 'demand_qty': '0', 'demand_price': '0.00', 'supply_price': '0.00', 'supply_qty': '0', 'last_qty': '400', 'high': '22.00', 'low': '21.00'}, {'security': 'REA', 'last_price': '0.00', 'demand_qty': '0', 'demand_price': '0.00', 'supply_price': '0.00', 'supply_qty': '0', 'last_qty': '0', 'high': '0.0', 'low': '0.0'}, {'security': 'PORT', 'last_price': '19.30', 'demand_qty': '0', 'demand_price': '0.00', 'supply_price': '0.00', 'supply_qty': '0', 'last_qty': '0', 'high': '19.30', 'low': '19.30'}, {'security': 'PAFR', 'last_price': '24.50', 'demand_qty': '4100', 'demand_price': '23.50', 'supply_price': '0.00', 'supply_qty': '0', 'last_qty': '0', 'high': '24.50', 'low': '24.50'}, {'security': 'ORCH', 'last_price': '82.00', 'demand_qty': '0', 'demand_price': '0.00', 'supply_price': '0.00', 'supply_qty': '0', 'last_qty': '0', 'high': '82.00', 'low': '82.00'}, {'security': 'OCHR', 'last_price': '0.00', 'demand_qty': '0', 'demand_price': '0.00', 'supply_price': '0.00', 'supply_qty': '0', 'last_qty': '0', 'high': '0.0', 'low': '0.0'}, {'security': 'OCH', 'last_price': '2.80', 'demand_qty': '0', 'demand_price': '0.00', 'supply_price': '0.00', 'supply_qty': '0', 'last_qty': '800', 'high': '3.00', 'low': '2.80'}, {'security': 'NIC', 'last_price': '35.50', 'demand_qty': '1000', 'demand_price': '35.00', 'supply_price': '38.00', 'supply_qty': '32500', 'last_qty': '10000', 'high': '38.00', 'low': '35.50'}, {'security': 'NSE', 'last_price': '18.00', 'demand_qty': '0', 'demand_price': '0.00', 'supply_price': '18.00', 'supply_qty': '5200', 'last_qty': '900', 'high': '18.00', 'low': '17.30'}, {'security': 'NMG', 'last_price': '90.00', 'demand_qty': '2500', 'demand_price': '85.00', 'supply_price': '91.00', 'supply_qty': '3400', 'last_qty': '1300', 'high': '91.00', 'low': '90.00'}, {'security': 'NBK', 'last_price': '6.25', 'demand_qty': '5000', 'demand_price': '6.05', 'supply_price': '0.00', 'supply_qty': '0', 'last_qty': '9700', 'high': '6.25', 'low': '6.15'}, {'security': 'MSC', 'last_price': '0.75', 'demand_qty': '0', 'demand_price': '0.00', 'supply_price': '0.80', 'supply_qty': '30000', 'last_qty': '4000', 'high': '0.80', 'low': '0.70'}, {'security': 'MASH', 'last_price': '0.00', 'demand_qty': '0', 'demand_price': '0.00', 'supply_price': '0.00', 'supply_qty': '0', 'last_qty': '0', 'high': '0.0', 'low': '0.0'}, {'security': 'NICR', 'last_price': '0.00', 'demand_qty': '0', 'demand_price': '0.00', 'supply_price': '0.00', 'supply_qty': '0', 'last_qty': '0', 'high': '0.0', 'low': '0.0'}, {'security': 'LKL', 'last_price': '4.20', 'demand_qty': '0', 'demand_price': '0.00', 'supply_price': '4.50', 'supply_qty': '19900', 'last_qty': '1900', 'high': '4.50', 'low': '4.20'}, {'security': 'LIMT', 'last_price': '500.00', 'demand_qty': '0', 'demand_price': '0.00', 'supply_price': '0.00', 'supply_qty': '0', 'last_qty': '0', 'high': '500.00', 'low': '500.00'}, {'security': 'KURV', 'last_price': '1500.00', 'demand_qty': '0', 'demand_price': '0.00', 'supply_price': '0.00', 'supply_qty': '0', 'last_qty': '0', 'high': '1500.00', 'low': '1500.00'}, {'security': 'KUKZ', 'last_price': '320.00', 'demand_qty': '1300', 'demand_price': '300.00', 'supply_price': '0.00', 'supply_qty': '0', 'last_qty': '0', 'high': '320.00', 'low': '320.00'}, {'security': 'KPLC', 'last_price': '6.80', 'demand_qty': '5000', 'demand_price': '6.60', 'supply_price': '0.00', 'supply_qty': '0', 'last_qty': '1600', 'high': '7.00', 'low': '6.80'}, {'security': 'KNRE', 'last_price': '15.95', 'demand_qty': '0', 'demand_price': '0.00', 'supply_price': '16.50', 'supply_qty': '300', 'last_qty': '900', 'high': '16.50', 'low': '15.85'}, {'security': 'KENO', 'last_price': '18.00', 'demand_qty': '74000', 'demand_price': '18.00', 'supply_price': '18.40', 'supply_qty': '3300', 'last_qty': '2000', 'high': '18.40', 'low': '18.00'}, {'security': 'KEGN', 'last_price': '7.00', 'demand_qty': '2000', 'demand_price': '6.65', 'supply_price': '7.70', 'supply_qty': '15000', 'last_qty': '500', 'high': '7.70', 'low': '6.90'}, {'security': 'KCB', 'last_price': '46.25', 'demand_qty': '10000', 'demand_price': '46.00', 'supply_price': '50.00', 'supply_qty': '200', 'last_qty': '2500', 'high': '50.00', 'low': '45.75'}, {'security': 'KAPC', 'last_price': '0.00', 'demand_qty': '0', 'demand_price': '0.00', 'supply_price': '0.00', 'supply_qty': '0', 'last_qty': '0', 'high': '0.0', 'low': '0.0'}, {'security': 'JUB', 'last_price': '515.00', 'demand_qty': '9100', 'demand_price': '502.00', 'supply_price': '530.00', 'supply_qty': '1700', 'last_qty': '100', 'high': '530.00', 'low': '503.00'}, {'security': 'ICDC', 'last_price': '37.75', 'demand_qty': '0', 'demand_price': '0.00', 'supply_price': '0.00', 'supply_qty': '0', 'last_qty': '200', 'high': '38.00', 'low': '36.50'}, {'security': 'I&M', 'last_price': '115.00', 'demand_qty': '0', 'demand_price': '0.00', 'supply_price': '125.00', 'supply_qty': '5300', 'last_qty': '200', 'high': '125.00', 'low': '115.00'}, {'security': 'HFCK', 'last_price': '8.40', 'demand_qty': '0', 'demand_price': '0.00', 'supply_price': '0.00', 'supply_qty': '0', 'last_qty': '6300', 'high': '8.70', 'low': '8.30'}, {'security': 'HBL', 'last_price': '0.00', 'demand_qty': '0', 'demand_price': '0.00', 'supply_price': '0.00', 'supply_qty': '0', 'last_qty': '0', 'high': '0.0', 'low': '0.0'}, {'security': 'HAFR', 'last_price': '0.85', 'demand_qty': '0', 'demand_price': '0.00', 'supply_price': '0.00', 'supply_qty': '0', 'last_qty': '500', 'high': '0.95', 'low': '0.85'}, {'security': 'FTGH', 'last_price': '3.55', 'demand_qty': '5000', 'demand_price': '3.00', 'supply_price': '0.00', 'supply_qty': '0', 'last_qty': '1000', 'high': '3.55', 'low': '3.55'}, {'security': 'FIRE', 'last_price': '2.80', 'demand_qty': '0', 'demand_price': '0.00', 'supply_price': '0.00', 'supply_qty': '0', 'last_qty': '100', 'high': '2.90', 'low': '2.65'}, {'security': 'EVRD', 'last_price': '1.60', 'demand_qty': '0', 'demand_price': '0.00', 'supply_price': '0.00', 'supply_qty': '0', 'last_qty': '4100', 'high': '1.60', 'low': '1.50'}, {'security': 'EQT', 'last_price': '46.25', 'demand_qty': '0', 'demand_price': '0.00', 'supply_price': '48.50', 'supply_qty': '191500', 'last_qty': '26000', 'high': '48.50', 'low': '46.00'}, {'security': 'EGAD', 'last_price': '20.00', 'demand_qty': '5000', 'demand_price': '19.00', 'supply_price': '0.00', 'supply_qty': '0', 'last_qty': '0', 'high': '20.00', 'low': '20.00'}, {'security': 'EABL', 'last_price': '220.00', 'demand_qty': '200', 'demand_price': '215.00', 'supply_price': '0.00', 'supply_qty': '0', 'last_qty': '4500', 'high': '220.00', 'low': '216.00'}, {'security': 'DTKR', 'last_price': '0.00', 'demand_qty': '0', 'demand_price': '0.00', 'supply_price': '0.00', 'supply_qty': '0', 'last_qty': '0', 'high': '0.0', 'low': '0.0'}, {'security': 'DTK', 'last_price': '199.00', 'demand_qty': '36600', 'demand_price': '192.00', 'supply_price': '199.00', 'supply_qty': '5900', 'last_qty': '200', 'high': '199.00', 'low': '197.00'}, {'security': 'COOP', 'last_price': '17.50', 'demand_qty': '5000', 'demand_price': '16.50', 'supply_price': '0.00', 'supply_qty': '0', 'last_qty': '100', 'high': '17.60', 'low': '17.50'}, {'security': 'CMC', 'last_price': '0.00', 'demand_qty': '0', 'demand_price': '0.00', 'supply_price': '0.00', 'supply_qty': '0', 'last_qty': '0', 'high': '0.0', 'low': '0.0'}, {'security': 'CITY', 'last_price': '115.00', 'demand_qty': '0', 'demand_price': '0.00', 'supply_price': '0.00', 'supply_qty': '0', 'last_qty': '0', 'high': '115.00', 'low': '115.00'}, {'security': 'CIC', 'last_price': '4.60', 'demand_qty': '330200', 'demand_price': '4.50', 'supply_price': '5.00', 'supply_qty': '8000', 'last_qty': '400', 'high': '5.00', 'low': '4.55'}, {'security': 'CG', 'last_price': '19.00', 'demand_qty': '50000', 'demand_price': '17.10', 'supply_price': '0.00', 'supply_qty': '0', 'last_qty': '0', 'high': '19.00', 'low': '19.00'}, {'security': 'CFCI', 'last_price': '13.70', 'demand_qty': '0', 'demand_price': '0.00', 'supply_price': '13.70', 'supply_qty': '9700', 'last_qty': '100', 'high': '13.70', 'low': '13.50'}, {'security': 'CFC', 'last_price': '92.00', 'demand_qty': '20000', 'demand_price': '85.00', 'supply_price': '94.50', 'supply_qty': '300', 'last_qty': '300', 'high': '94.50', 'low': '91.00'}, {'security': 'CARB', 'last_price': '11.60', 'demand_qty': '1000', 'demand_price': '10.50', 'supply_price': '0.00', 'supply_qty': '0', 'last_qty': '500', 'high': '11.80', 'low': '10.80'}, {'security': 'CABL', 'last_price': '3.75', 'demand_qty': '0', 'demand_price': '0.00', 'supply_price': '0.00', 'supply_qty': '0', 'last_qty': '500', 'high': '3.75', 'low': '3.50'}, {'security': 'BRIT', 'last_price': '14.65', 'demand_qty': '700', 'demand_price': '14.00', 'supply_price': '14.75', 'supply_qty': '20000', 'last_qty': '100', 'high': '14.75', 'low': '14.50'}, {'security': 'BOC', 'last_price': '90.00', 'demand_qty': '0', 'demand_price': '0.00', 'supply_price': '0.00', 'supply_qty': '0', 'last_qty': '300', 'high': '90.00', 'low': '86.00'}, {'security': 'BERG', 'last_price': '80.00', 'demand_qty': '300', 'demand_price': '80.00', 'supply_price': '0.00', 'supply_qty': '0', 'last_qty': '200', 'high': '80.00', 'low': '80.00'}, {'security': 'BBK', 'last_price': '11.75', 'demand_qty': '11300', 'demand_price': '11.00', 'supply_price': '11.95', 'supply_qty': '10000', 'last_qty': '400', 'high': '11.95', 'low': '11.00'}, {'security': 'BAUM', 'last_price': '0.00', 'demand_qty': '0', 'demand_price': '0.00', 'supply_price': '0.00', 'supply_qty': '0', 'last_qty': '0', 'high': '0.0', 'low': '0.0'}, {'security': 'BAT', 'last_price': '600.00', 'demand_qty': '2900', 'demand_price': '600.00', 'supply_price': '630.00', 'supply_qty': '1600', 'last_qty': '0', 'high': '630.00', 'low': '600.00'}, {'security': 'BAMB', 'last_price': '184.00', 'demand_qty': '0', 'demand_price': '0.00', 'supply_price': '185.00', 'supply_qty': '400', 'last_qty': '100', 'high': '185.00', 'low': '178.00'}, {'security': 'ARM', 'last_price': '3.10', 'demand_qty': '96600', 'demand_price': '2.85', 'supply_price': '0.00', 'supply_qty': '0', 'last_qty': '18100', 'high': '3.10', 'low': '2.85'}, {'security': 'ADSS', 'last_price': '1.05', 'demand_qty': '0', 'demand_price': '0.00', 'supply_price': '0.00', 'supply_qty': '0', 'last_qty': '0', 'high': '1.05', 'low': '1.05'}, {'security': 'ACCS', 'last_price': '0.00', 'demand_qty': '0', 'demand_price': '0.00', 'supply_price': '0.00', 'supply_qty': '0', 'last_qty': '0', 'high': '0.0', 'low': '0.0'}]\n"
     ]
    }
   ],
   "source": [
    "sql = \"INSERT INTO market_details (security, last_price, demand_qty, demand_price, supply_price, supply_qty, last_qty, high, low) VALUES \"\n",
    "markets = []\n",
    "for row in sdarr:\n",
    "    \n",
    "    sub_row = [row[2], row[8], row[9], row[10], row[11], row[12]]\n",
    "    high_low = sortlist(sub_row)\n",
    "    sql = sql + \"( '\"+row[0]+\"', \"+ row[2]+\", \"+row[5]+\", \"+row[6]+\", \"+row[8]+\", \"+row[7]+\", \"+row[4]+\", \"+max(high_low)+\", \"+min(high_low)+\"),\"\n",
    "    markets.append({\"security\": row[0],\n",
    "                    \"last_price\": row[2],\n",
    "                    \"demand_qty\": row[5],\n",
    "                    \"demand_price\": row[6],\n",
    "                    \"supply_price\": row[8],\n",
    "                    \"supply_qty\": row[7],\n",
    "                    \"last_qty\": row[4],\n",
    "                    \"high\": max(high_low),\n",
    "                    \"low\":  min(high_low)\n",
    "                    })\n",
    "    \n",
    "sql = sql[:-1] + \";\" \n",
    "    \n",
    "\n",
    "print(markets)\n",
    "# db = MySQLdb.connect(host=\"localhost\",    # your host, usually localhost\n",
    "#                  user=\"root\",         # your username\n",
    "#                  passwd=\"\",  # your password\n",
    "#                  db=\"nse\")        # name of the data base\n",
    "# \n",
    "# db.query(sql)\n",
    "# db.commit()\n",
    "# \n",
    "# db.close()\n"
   ]
  },
  {
   "cell_type": "code",
   "execution_count": 11,
   "metadata": {},
   "outputs": [
    {
     "name": "stdout",
     "output_type": "stream",
     "text": [
      "70\n"
     ]
    }
   ],
   "source": [
    ""
   ]
  }
 ],
 "metadata": {
  "kernelspec": {
   "display_name": "Python 3",
   "language": "python",
   "name": "python3"
  },
  "language_info": {
   "codemirror_mode": {
    "name": "ipython",
    "version": 3
   },
   "file_extension": ".py",
   "mimetype": "text/x-python",
   "name": "python",
   "nbconvert_exporter": "python",
   "pygments_lexer": "ipython3",
   "version": "3.6.5"
  }
 },
 "nbformat": 4,
 "nbformat_minor": 2
}
