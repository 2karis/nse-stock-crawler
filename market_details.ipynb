{
 "cells": [
  {
   "cell_type": "code",
   "execution_count": 3,
   "metadata": {},
   "outputs": [],
   "source": [
    "import mechanicalsoup\n",
    "from bs4 import BeautifulSoup\n",
    "import re\n"
   ]
  },
  {
   "cell_type": "code",
   "execution_count": 4,
   "metadata": {},
   "outputs": [
    {
     "data": {
      "text/plain": [
       "<Response [200]>"
      ]
     },
     "execution_count": 4,
     "metadata": {},
     "output_type": "execute_result"
    }
   ],
   "source": [
    "browser = mechanicalsoup.StatefulBrowser()\n",
    "browser.open(\"https://onlinetrading.ncbagroup.com/tradeweb/login.aspx\")"
   ]
  },
  {
   "cell_type": "code",
   "execution_count": 5,
   "metadata": {},
   "outputs": [
    {
     "data": {
      "text/plain": [
       "<Response [200]>"
      ]
     },
     "execution_count": 5,
     "metadata": {},
     "output_type": "execute_result"
    }
   ],
   "source": [
    "browser.select_form(nr=0)\n",
    "\n",
    "# User credentials\n",
    "browser['txtLogin'] = 'kariukiigitau'\n",
    "browser['txtPassword'] = 'dece1236'\n",
    "\n",
    "# Login\n",
    "browser.submit_selected()\n",
    "\n"
   ]
  },
  {
   "cell_type": "code",
   "execution_count": 6,
   "metadata": {},
   "outputs": [],
   "source": [
    "browser.open('https://onlinetrading.ncbagroup.com/tradeweb/MarketDetails.aspx?wl=Default')\n",
    "page = browser.get_current_page()"
   ]
  },
  {
   "cell_type": "code",
   "execution_count": 7,
   "metadata": {},
   "outputs": [],
   "source": [
    "soup = BeautifulSoup(str(page), 'lxml')\n",
    "script = soup.find_all(\"script\")\n"
   ]
  },
  {
   "cell_type": "code",
   "execution_count": 8,
   "metadata": {},
   "outputs": [],
   "source": [
    "jss =  str(script[22])\n",
    "str_replace_qoutes = jss.replace('\\\"', '\\\\\"')\n",
    "str_minus_semi_colon = str_replace_qoutes.replace(\";\",\" \")\n",
    "str_minus_sdarr = str_minus_semi_colon.replace(\"sDArr\",\"\")\n",
    "str_minus_equal = str_minus_sdarr.replace(\"=\",\"\")\n",
    "\n",
    "#everything before sdarr\n",
    "head, sep, tail = str_minus_equal.partition('(jsiScripsInMW,50) ')\n",
    "#everything after sdarr\n",
    "head2, sep2, tail2 = tail.partition('  jsiMWrefreshDelay')\n",
    "result = re.sub(\"[\\(\\[].*?[\\)\\]]\", \"\", head2)\n",
    "arr = result.split(\"' '\")\n",
    "arr[0] = arr[0].replace(\"\\'\",\"\")\n",
    "arr[-1] = arr[-1].replace(\"\\'\",\"\")\n"
   ]
  },
  {
   "cell_type": "code",
   "execution_count": 9,
   "metadata": {},
   "outputs": [],
   "source": [
    "sdarr = []\n",
    "sec = []\n",
    "security_ = \"\"\n",
    "open_ = \"\"\n",
    "high_ = \"\"\n",
    "change_ = \"\"\n",
    "close_ = \"\"\n",
    "low_ = \"\"\n",
    "LTT_ = \"\"\n",
    "volume_ = \"\"\n",
    "turn_over_ = \"\"\n",
    "count = 0\n",
    "for i in range(len(arr)):\n",
    "    count += 1\n",
    "    \n",
    "    if count ==1:#good\n",
    "        security_ = arr[i]\n",
    "        \n",
    "    if count ==10:#good\n",
    "        open_ = arr[i]\n",
    "        \n",
    "    if count ==11:#good\n",
    "        high_ = arr[i]\n",
    "        \n",
    "    if count ==3:\n",
    "        change_ = arr[i]\n",
    "        \n",
    "    if count ==13:#good\n",
    "        close_ = arr[i]\n",
    "        \n",
    "    if count ==12:#good\n",
    "        low_ = arr[i]\n",
    "        \n",
    "    if count ==4:#good\n",
    "        LTT_ = arr[i]\n",
    "        \n",
    "    if count ==20:#good\n",
    "        volume_ = arr[i]\n",
    "        \n",
    "    if count ==19:#good\n",
    "        turn_over_ = arr[i]\n",
    "        \n",
    "    if count ==21: \n",
    "        count = 0\n",
    "        sdarr.append({\n",
    "            \"security\":security_,\n",
    "            \"open\": open_,\n",
    "            \"high\": high_,\n",
    "            \"change\": change_,\n",
    "            \"close\": close_,\n",
    "            \"low\": low_,\n",
    "            \"LTT\": LTT_,\n",
    "            \"volume\":volume_,\n",
    "            \"turn_over\":turn_over_\n",
    "            })\n",
    "        sec =[]\n",
    "    \n"
   ]
  },
  {
   "cell_type": "code",
   "execution_count": 10,
   "metadata": {},
   "outputs": [
    {
     "name": "stdout",
     "output_type": "stream",
     "text": [
      "1   SCOM\n",
      "2   \n",
      "3   30.15\n",
      "4   15:04:49\n",
      "5   0\n",
      "6   152400\n",
      "7   30.50\n",
      "8   1000\n",
      "9   30.60\n",
      "10   0.00\n",
      "11   30.60\n",
      "12   30.00\n",
      "13   30.15\n",
      "14   100\n",
      "15   0\n",
      "16   10.00\n",
      "17   10.00\n",
      "18   SAFARICOM LTD\n",
      "19   0.00\n",
      "20   3516300.00\n",
      "21   53\n"
     ]
    }
   ],
   "source": [
    "sdarr2 = []\n",
    "sec = []\n",
    "security_ = \"\"\n",
    "open_ = \"\"\n",
    "high_ = \"\"\n",
    "change_ = \"\"\n",
    "close_ = \"\"\n",
    "low_ = \"\"\n",
    "LTT_ = \"\"\n",
    "volume_ = \"\"\n",
    "turn_over_ = \"\"\n",
    "count = 0\n",
    "step = 48\n",
    "#18 n 48 n 45\n",
    "\n",
    "for i in range(21):\n",
    "    count += 1\n",
    "    print(count , \" \",arr[i+21*step])\n",
    "    \n",
    "    if count ==1:#good\n",
    "        security_ = arr[i+21*step]\n",
    "        \n",
    "    if count ==10:#good\n",
    "        open_ = arr[i+21*step]\n",
    "        \n",
    "    if count ==11:#good\n",
    "        high_ = arr[i+21*step]\n",
    "        \n",
    "    if count ==3:\n",
    "        change_ = arr[i+21*step]\n",
    "        \n",
    "    if count ==13:#good\n",
    "        close_ = arr[i+21*step]\n",
    "        \n",
    "    if count ==12:#good\n",
    "        low_ = arr[i+21*step]\n",
    "        \n",
    "    if count ==4:#good\n",
    "        LTT_ = arr[i+21*step]\n",
    "        \n",
    "    if count ==20:#good\n",
    "        volume_ = arr[i+21*step]\n",
    "        \n",
    "    if count ==19:#good\n",
    "        turn_over_ = arr[i+21*step]\n",
    "        \n",
    "    if count ==21: \n",
    "        count = 0\n",
    "        sdarr2.append({\n",
    "            \"security\":security_,\n",
    "            \"open\": open_,\n",
    "            \"high\": high_,\n",
    "            \"change\": change_,\n",
    "            \"close\": close_,\n",
    "            \"low\": low_,\n",
    "            \"LTT\": LTT_,\n",
    "            \"volume\":volume_,\n",
    "            \"turn_over\":turn_over_\n",
    "            })\n",
    "        sec =[]\n",
    "#figure out how to not include 0 companies\n"
   ]
  },
  {
   "cell_type": "code",
   "execution_count": 15,
   "metadata": {},
   "outputs": [
    {
     "name": "stdout",
     "output_type": "stream",
     "text": [
      "{'security': 'PORT', 'high': '14.50', 'change': '14.50', 'close': '14.00', 'volume': '100.00', 'open': '0.00', 'LTT': '00:00:00', 'low': '14.50', 'turn_over': '145000.00'}\n"
     ]
    }
   ],
   "source": [
    "print(sdarr[43])"
   ]
  },
  {
   "cell_type": "code",
   "execution_count": null,
   "metadata": {},
   "outputs": [],
   "source": [
    "#change is ticker price - closing price"
   ]
  },
  {
   "cell_type": "code",
   "execution_count": null,
   "metadata": {},
   "outputs": [],
   "source": []
  }
 ],
 "metadata": {
  "kernelspec": {
   "display_name": "Python 3",
   "language": "python",
   "name": "python3"
  },
  "language_info": {
   "codemirror_mode": {
    "name": "ipython",
    "version": 3
   },
   "file_extension": ".py",
   "mimetype": "text/x-python",
   "name": "python",
   "nbconvert_exporter": "python",
   "pygments_lexer": "ipython3",
   "version": "3.5.2"
  }
 },
 "nbformat": 4,
 "nbformat_minor": 2
}
