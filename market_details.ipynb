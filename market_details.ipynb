{
 "cells": [
  {
   "cell_type": "code",
   "execution_count": 1,
   "metadata": {},
   "outputs": [],
   "source": [
    "import mechanicalsoup\n",
    "from bs4 import BeautifulSoup\n",
    "import re\n",
    "import MySQLdb\n"
   ]
  },
  {
   "cell_type": "code",
   "execution_count": 2,
   "metadata": {},
   "outputs": [
    {
     "data": {
      "text/plain": [
       "<Response [200]>"
      ]
     },
     "execution_count": 2,
     "metadata": {},
     "output_type": "execute_result"
    }
   ],
   "source": [
    "browser = mechanicalsoup.StatefulBrowser()\n",
    "browser.open(\"https://onlinetrading.nse.co.ke/tradeweb111/\")"
   ]
  },
  {
   "cell_type": "code",
   "execution_count": null,
   "metadata": {},
   "outputs": [],
   "source": [
    "file = open('pass.txt', 'r') \n",
    "password =str(file.read())"
   ]
  },
  {
   "cell_type": "code",
   "execution_count": 3,
   "metadata": {},
   "outputs": [
    {
     "data": {
      "text/plain": [
       "<Response [200]>"
      ]
     },
     "execution_count": 3,
     "metadata": {},
     "output_type": "execute_result"
    }
   ],
   "source": [
    "browser.select_form(nr=0)\n",
    "\n",
    "# User credentials\n",
    "browser['txtLogin'] = 'karis'\n",
    "browser['txtPassword'] = password\n",
    "\n",
    "# Login\n",
    "browser.submit_selected()\n",
    "\n"
   ]
  },
  {
   "cell_type": "code",
   "execution_count": 4,
   "metadata": {},
   "outputs": [],
   "source": [
    "browser.open('https://onlinetrading.nse.co.ke/tradeweb111/MarketDetails.aspx?wl=Default')\n",
    "#https://onlinetrading.nse.co.ke/tradeweb111/MarketDetails.aspx?wl=Default\n",
    "page = browser.get_current_page()"
   ]
  },
  {
   "cell_type": "code",
   "execution_count": 5,
   "metadata": {},
   "outputs": [],
   "source": [
    "soup = BeautifulSoup(str(page), 'lxml')\n",
    "script = soup.find_all(\"script\")\n"
   ]
  },
  {
   "cell_type": "code",
   "execution_count": 6,
   "metadata": {},
   "outputs": [],
   "source": [
    "jss =  str(script[22])\n",
    "str_replace_qoutes = jss.replace('\\\"', '\\\\\"')\n",
    "str_minus_semi_colon = str_replace_qoutes.replace(\";\",\" \")\n",
    "str_minus_sdarr = str_minus_semi_colon.replace(\"sDArr\",\"\")\n",
    "str_minus_equal = str_minus_sdarr.replace(\"=\",\"\")\n",
    "\n",
    "#everything before sdarr\n",
    "head, sep, tail = str_minus_equal.partition('(jsiScripsInMW,50) ')\n",
    "#everything after sdarr\n",
    "head2, sep2, tail2 = tail.partition('  jsiMWrefreshDelay')\n",
    "result = re.sub(\"[\\(\\[].*?[\\)\\]]\", \"\", head2)\n",
    "arr = result.split(\"' '\")\n",
    "arr[0] = arr[0].replace(\"\\'\",\"\")\n",
    "arr[-1] = arr[-1].replace(\"\\'\",\"\")"
   ]
  },
  {
   "cell_type": "code",
   "execution_count": 7,
   "metadata": {},
   "outputs": [],
   "source": [
    "sdarr = []\n",
    "sec = []\n",
    "count =1\n",
    "for i in range(len(arr)):\n",
    "    count = count + 1\n",
    "    sec.append(arr[i])\n",
    "    if count ==22:\n",
    "        count = 1\n",
    "        sdarr.append(sec)\n",
    "        sec =[]\n"
   ]
  },
  {
   "cell_type": "code",
   "execution_count": 8,
   "metadata": {},
   "outputs": [],
   "source": [
    "#print(sdarr)"
   ]
  },
  {
   "cell_type": "code",
   "execution_count": 9,
   "metadata": {},
   "outputs": [],
   "source": [
    "def sortlist(mylist):\n",
    "    newlist=[]\n",
    "    for item in mylist:\n",
    "        if float(item) > 0:\n",
    "            newlist.append(item)\n",
    "    \n",
    "    if newlist == []:\n",
    "        newlist = [str(0.00), str(0.00)]\n",
    "    return newlist"
   ]
  },
  {
   "cell_type": "code",
   "execution_count": 10,
   "metadata": {},
   "outputs": [],
   "source": [
    "sql = \"INSERT INTO market_details (security, last_price, demand_qty, demand_price, supply_price, supply_qty, last_qty, high, low) VALUES \"\n",
    "for row in sdarr:\n",
    "    \n",
    "    sub_row = [row[2], row[8], row[9], row[10], row[11], row[12]]\n",
    "    high_low = sortlist(sub_row)\n",
    "    sql = sql + \"( '\"+row[0]+\"', \"+ row[2]+\", \"+row[5]+\", \"+row[6]+\", \"+row[8]+\", \"+row[7]+\", \"+row[4]+\", \"+max(high_low)+\", \"+min(high_low)+\"),\"\n",
    "sql = sql[:-1] + \";\"    \n",
    "db = MySQLdb.connect(host=\"localhost\",    # your host, usually localhost\n",
    "                 user=\"root\",         # your username\n",
    "                 passwd=\"\",  # your password\n",
    "                 db=\"nse\")        # name of the data base\n",
    "\n",
    "db.query(sql)\n",
    "db.commit()\n",
    "\n",
    "db.close()\n"
   ]
  },
  {
   "cell_type": "code",
   "execution_count": 11,
   "metadata": {},
   "outputs": [
    {
     "name": "stdout",
     "output_type": "stream",
     "text": [
      "70\n"
     ]
    }
   ],
   "source": [
    "print(len(sdarr))"
   ]
  }
 ],
 "metadata": {
  "kernelspec": {
   "display_name": "Python 3",
   "language": "python",
   "name": "python3"
  },
  "language_info": {
   "codemirror_mode": {
    "name": "ipython",
    "version": 3
   },
   "file_extension": ".py",
   "mimetype": "text/x-python",
   "name": "python",
   "nbconvert_exporter": "python",
   "pygments_lexer": "ipython3",
   "version": "3.6.5"
  }
 },
 "nbformat": 4,
 "nbformat_minor": 2
}
