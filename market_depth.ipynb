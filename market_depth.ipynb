{
 "cells": [
  {
   "cell_type": "code",
   "execution_count": 15,
   "metadata": {
    "scrolled": true
   },
   "outputs": [
    {
     "name": "stdout",
     "output_type": "stream",
     "text": [
      "{\"bno\":\"1\",\"bp\":\"11.30\",\"bq\":\"37000\",\"sno\":\"1\",\"sp\":\"11.85\",\"sq\":\"50000\"},{\"bno\":\"1\",\"bp\":\"11.05\",\"bq\":\"100000\",\"sno\":\"1\",\"sp\":\"12.00\",\"sq\":\"28000\"},{\"bno\":\"2\",\"bp\":\"11.00\",\"bq\":\"11300\",\"sno\":\"0\",\"sp\":\"0\",\"sq\":\"0\"}\n"
     ]
    }
   ],
   "source": [
    "import requests\n",
    "import json\n",
    "\n",
    "\n",
    "url = 'https://onlinetrading.nse.co.ke/tradeweb111/handler/fh.ashx?query=javascript&output=json&tp=0&id=karis&mdf=1&iid=51&sky=8278e0f0464b&sc=139&callback=xdrCall.JsonXSHR&nocache=1530645432871'\n",
    "r = requests.get(url)\n",
    "\n",
    "# response = r.text\n",
    "\n",
    "#remove everything before (\n",
    "head, sep, tail = response.partition('1^^^')\n",
    "\n",
    "#remove everything after ^||^\n",
    "  \n",
    "head2, sep2, tail2 = tail.partition('^||^')\n",
    "\n",
    "\n",
    "print(head2)\n",
    "\n"
   ]
  },
  {
   "cell_type": "code",
   "execution_count": null,
   "metadata": {},
   "outputs": [],
   "source": []
  }
 ],
 "metadata": {
  "kernelspec": {
   "display_name": "Python 3",
   "language": "python",
   "name": "python3"
  },
  "language_info": {
   "codemirror_mode": {
    "name": "ipython",
    "version": 3
   },
   "file_extension": ".py",
   "mimetype": "text/x-python",
   "name": "python",
   "nbconvert_exporter": "python",
   "pygments_lexer": "ipython3",
   "version": "3.6.5"
  }
 },
 "nbformat": 4,
 "nbformat_minor": 2
}
