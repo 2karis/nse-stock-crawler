{
 "cells": [
  {
   "cell_type": "code",
   "execution_count": 8,
   "metadata": {},
   "outputs": [],
   "source": [
    "import mechanicalsoup\n",
    "from bs4 import BeautifulSoup\n",
    "import random\n",
    "import string"
   ]
  },
  {
   "cell_type": "code",
   "execution_count": 11,
   "metadata": {},
   "outputs": [],
   "source": [
    "soup = BeautifulSoup(str(ChangePassword), 'lxml')\n"
   ]
  },
  {
   "cell_type": "code",
   "execution_count": null,
   "metadata": {},
   "outputs": [],
   "source": [
    "file = open('pass.txt', 'r') \n",
    "password =str(file.read())\n",
    "\n",
    "browser = browser = mechanicalsoup.StatefulBrowser()\n",
    "browser.open(\"https://onlinetrading.nse.co.ke/tradeweb111/\")\n",
    "browser.select_form(nr=0)\n",
    "browser['txtLogin'] = 'karis'\n",
    "browser['txtPassword'] = password\n",
    "browser.submit_selected()\n"
   ]
  },
  {
   "cell_type": "code",
   "execution_count": null,
   "metadata": {},
   "outputs": [],
   "source": [
    "\n",
    "\n",
    "def password_generator(size=8, chars=string.ascii_lowercase + string.digits):\n",
    "    return ''.join(random.choice(chars) for _ in range(size))\n",
    "\n",
    "def write_password(password):\n",
    "    f= open(\"new_pass.txt\",\"w+\")\n",
    "    f.write(password)\n",
    "    f.close() \n",
    "    \n",
    "def check_password():\n",
    "    page = browser.get_current_page()\n",
    "    soup = BeautifulSoup(str(page), 'lxml')\n",
    "    #if this is the change password page\n",
    "    if soup.title.text == '\\r\\n\\tChange Password\\r\\n':\n",
    "        #generate new password\n",
    "        new_password = password_generator()\n",
    "        #save to file\n",
    "        write_password(new_password)\n",
    "        browser.select_form(nr=0)\n",
    "        browser['txtLoginID'] = karis\n",
    "        browser['txtCurrPass'] = password\n",
    "        browser['txtNewPass'] = new_password\n",
    "        browser['txtConfirmPass'] = new_password\n",
    "        browser.submit_selected()\n",
    "        print('password updated')\n",
    "        #run login\n",
    "        \n"
   ]
  }
 ],
 "metadata": {
  "kernelspec": {
   "display_name": "Python 3",
   "language": "python",
   "name": "python3"
  },
  "language_info": {
   "codemirror_mode": {
    "name": "ipython",
    "version": 3
   },
   "file_extension": ".py",
   "mimetype": "text/x-python",
   "name": "python",
   "nbconvert_exporter": "python",
   "pygments_lexer": "ipython3",
   "version": "3.6.5"
  }
 },
 "nbformat": 4,
 "nbformat_minor": 2
}
