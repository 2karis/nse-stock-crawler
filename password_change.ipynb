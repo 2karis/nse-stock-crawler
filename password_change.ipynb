{
 "cells": [
  {
   "cell_type": "code",
   "execution_count": 1,
   "metadata": {},
   "outputs": [],
   "source": [
    "import mechanicalsoup\n",
    "from bs4 import BeautifulSoup\n",
    "import random\n",
    "import string"
   ]
  },
  {
   "cell_type": "code",
   "execution_count": 2,
   "metadata": {},
   "outputs": [],
   "source": [
    "# soup = BeautifulSoup(str(ChangePassword), 'lxml')\n"
   ]
  },
  {
   "cell_type": "code",
   "execution_count": 3,
   "metadata": {},
   "outputs": [
    {
     "data": {
      "text/plain": [
       "<Response [200]>"
      ]
     },
     "execution_count": 3,
     "metadata": {},
     "output_type": "execute_result"
    }
   ],
   "source": [
    "\n",
    "\n",
    "browser = browser = mechanicalsoup.StatefulBrowser()\n",
    "browser.open(\"https://onlinetrading.nse.co.ke/tradeweb111/\")\n",
    "browser.select_form(nr=0)\n",
    "browser['txtLogin'] = 'karis'\n",
    "browser['txtPassword'] = 'janu2119'\n",
    "browser.submit_selected()\n"
   ]
  },
  {
   "cell_type": "code",
   "execution_count": 4,
   "metadata": {},
   "outputs": [],
   "source": [
    "\n",
    "\n",
    "def password_generator(size=8, chars=string.ascii_lowercase + string.digits):\n",
    "    return ''.join(random.choice(chars) for _ in range(size))\n",
    "\n",
    "def write_password(password):\n",
    "    f= open(\"new_pass.txt\",\"w+\")\n",
    "    f.write(password)\n",
    "    f.close() \n",
    "    \n",
    "def check_password():\n",
    "    page = browser.get_current_page()\n",
    "    soup = BeautifulSoup(str(page), 'lxml')\n",
    "    #if this is the change password page\n",
    "    if soup.title.text == '\\r\\n\\tChange Password\\r\\n':\n",
    "        #generate new password\n",
    "        new_password = password_generator()\n",
    "        #save to file\n",
    "        write_password(new_password)\n",
    "        browser.select_form(nr=0)\n",
    "        browser['txtLoginID'] = karis\n",
    "        browser['txtCurrPass'] = password\n",
    "        browser['txtNewPass'] = new_password\n",
    "        browser['txtConfirmPass'] = new_password\n",
    "        browser.submit_selected()\n",
    "        print('password updated')\n",
    "    print(soup.title.text)\n",
    "        #run login\n",
    "        \n",
    "def is_password_valid():\n",
    "    page = browser.get_current_page()\n",
    "    soup = BeautifulSoup(str(page), 'lxml')\n",
    "    password_validity=1\n",
    "    if soup.body.text ==' Error : INVALID LOGIN':\n",
    "        password_validity = 0\n",
    "        print(soup.body.text)\n",
    "        print(\"closing program\")\n",
    "        exit()"
   ]
  },
  {
   "cell_type": "code",
   "execution_count": 5,
   "metadata": {},
   "outputs": [
    {
     "name": "stdout",
     "output_type": "stream",
     "text": [
      " Error : INVALID LOGIN\n"
     ]
    }
   ],
   "source": [
    "is_password_valid()"
   ]
  },
  {
   "cell_type": "code",
   "execution_count": 6,
   "metadata": {},
   "outputs": [
    {
     "ename": "AttributeError",
     "evalue": "'NoneType' object has no attribute 'text'",
     "output_type": "error",
     "traceback": [
      "\u001b[1;31m---------------------------------------------------------------------------\u001b[0m",
      "\u001b[1;31mAttributeError\u001b[0m                            Traceback (most recent call last)",
      "\u001b[1;32m<ipython-input-6-fa7b4dbf2010>\u001b[0m in \u001b[0;36m<module>\u001b[1;34m\u001b[0m\n\u001b[1;32m----> 1\u001b[1;33m \u001b[0mcheck_password\u001b[0m\u001b[1;33m(\u001b[0m\u001b[1;33m)\u001b[0m\u001b[1;33m\u001b[0m\u001b[0m\n\u001b[0m",
      "\u001b[1;32m<ipython-input-4-9d7e8972326b>\u001b[0m in \u001b[0;36mcheck_password\u001b[1;34m()\u001b[0m\n\u001b[0;32m     13\u001b[0m     \u001b[0msoup\u001b[0m \u001b[1;33m=\u001b[0m \u001b[0mBeautifulSoup\u001b[0m\u001b[1;33m(\u001b[0m\u001b[0mstr\u001b[0m\u001b[1;33m(\u001b[0m\u001b[0mpage\u001b[0m\u001b[1;33m)\u001b[0m\u001b[1;33m,\u001b[0m \u001b[1;34m'lxml'\u001b[0m\u001b[1;33m)\u001b[0m\u001b[1;33m\u001b[0m\u001b[0m\n\u001b[0;32m     14\u001b[0m     \u001b[1;31m#if this is the change password page\u001b[0m\u001b[1;33m\u001b[0m\u001b[1;33m\u001b[0m\u001b[0m\n\u001b[1;32m---> 15\u001b[1;33m     \u001b[1;32mif\u001b[0m \u001b[0msoup\u001b[0m\u001b[1;33m.\u001b[0m\u001b[0mtitle\u001b[0m\u001b[1;33m.\u001b[0m\u001b[0mtext\u001b[0m \u001b[1;33m==\u001b[0m \u001b[1;34m'\\r\\n\\tChange Password\\r\\n'\u001b[0m\u001b[1;33m:\u001b[0m\u001b[1;33m\u001b[0m\u001b[0m\n\u001b[0m\u001b[0;32m     16\u001b[0m         \u001b[1;31m#generate new password\u001b[0m\u001b[1;33m\u001b[0m\u001b[1;33m\u001b[0m\u001b[0m\n\u001b[0;32m     17\u001b[0m         \u001b[0mnew_password\u001b[0m \u001b[1;33m=\u001b[0m \u001b[0mpassword_generator\u001b[0m\u001b[1;33m(\u001b[0m\u001b[1;33m)\u001b[0m\u001b[1;33m\u001b[0m\u001b[0m\n",
      "\u001b[1;31mAttributeError\u001b[0m: 'NoneType' object has no attribute 'text'"
     ]
    }
   ],
   "source": [
    "check_password()"
   ]
  },
  {
   "cell_type": "code",
   "execution_count": null,
   "metadata": {},
   "outputs": [],
   "source": [
    "login = \"<html><body><center><font color=\\\"red\\\"> Error : INVALID LOGIN</font></center><meta content=\\\"3;url=./login.aspx\\\" http-equiv=\\\"refresh\\\"/><meta content=\\\"3;url=./login.aspx\\\" http-equiv=\\\"refresh\\\"/></body></html>\""
   ]
  },
  {
   "cell_type": "code",
   "execution_count": null,
   "metadata": {},
   "outputs": [],
   "source": [
    "l_soup = BeautifulSoup(str(login), 'lxml')\n"
   ]
  },
  {
   "cell_type": "code",
   "execution_count": null,
   "metadata": {},
   "outputs": [],
   "source": [
    "l_soup.body.text"
   ]
  },
  {
   "cell_type": "code",
   "execution_count": null,
   "metadata": {},
   "outputs": [],
   "source": []
  }
 ],
 "metadata": {
  "kernelspec": {
   "display_name": "Python 3",
   "language": "python",
   "name": "python3"
  },
  "language_info": {
   "codemirror_mode": {
    "name": "ipython",
    "version": 3
   },
   "file_extension": ".py",
   "mimetype": "text/x-python",
   "name": "python",
   "nbconvert_exporter": "python",
   "pygments_lexer": "ipython3",
   "version": "3.5.2"
  }
 },
 "nbformat": 4,
 "nbformat_minor": 2
}
