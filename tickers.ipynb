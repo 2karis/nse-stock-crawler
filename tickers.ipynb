{
 "cells": [
  {
   "cell_type": "code",
   "execution_count": 2,
   "metadata": {},
   "outputs": [],
   "source": [
    "import mechanicalsoup\n",
    "from bs4 import BeautifulSoup\n",
    "import re\n",
    "import MySQLdb\n",
    "import time"
   ]
  },
  {
   "cell_type": "code",
   "execution_count": 3,
   "metadata": {},
   "outputs": [
    {
     "data": {
      "text/plain": [
       "<Response [200]>"
      ]
     },
     "execution_count": 3,
     "metadata": {},
     "output_type": "execute_result"
    }
   ],
   "source": [
    "browser = mechanicalsoup.StatefulBrowser()\n",
    "browser.open(\"https://onlinetrading.nse.co.ke/tradeweb111/\")"
   ]
  },
  {
   "cell_type": "code",
   "execution_count": 8,
   "metadata": {},
   "outputs": [],
   "source": [
    "file = open('pass.txt', 'r') \n",
    "password =str(file.read())"
   ]
  },
  {
   "cell_type": "code",
   "execution_count": 9,
   "metadata": {
    "scrolled": true
   },
   "outputs": [],
   "source": [
    "browser.select_form(nr=0)\n",
    "\n",
    "# User credentials\n",
    "browser['txtLogin'] = 'karis'\n",
    "browser['txtPassword'] = password\n",
    "\n",
    "# Login\n",
    "browser.submit_selected()\n",
    "\n",
    "page = browser.get_current_page()\n"
   ]
  },
  {
   "cell_type": "code",
   "execution_count": 10,
   "metadata": {},
   "outputs": [],
   "source": [
    "#browser.open('https://onlinetrading.nse.co.ke/tradeweb111/TWHome.aspx')\n",
    "#https://onlinetrading.nse.co.ke/tradeweb111/MarketDetails.aspx?wl=Default\n",
    "page = browser.get_current_page()"
   ]
  },
  {
   "cell_type": "code",
   "execution_count": 11,
   "metadata": {},
   "outputs": [],
   "source": [
    "soup = BeautifulSoup(str(page), 'lxml')\n",
    "\n",
    "div = soup.find(\"div\", {\"class\": \"CSPLTickerContainer\"})\n",
    "ul =  div.find(\"ul\")\n",
    "li =  ul.find(\"li\")\n"
   ]
  },
  {
   "cell_type": "code",
   "execution_count": 13,
   "metadata": {},
   "outputs": [],
   "source": [
    "sql = \"INSERT INTO ticker (security, price, price_change) VALUES \"\n",
    "for li in ul:\n",
    "    combo = li.text.split('|', 1)[0]\n",
    "    security_price, change = combo.split(' ')\n",
    "    security = re.split('(\\d+)',security_price)\n",
    "    price = ''.join(security[1:4])\n",
    "    #items.append([security[0] ,price , change])\n",
    "    sql = sql + \"('\"+security[0]+\"', \"+ price+\", \"+change+\"),\"\n",
    "    \n",
    "    \n",
    "sql = sql[:-1] + \";\"\n",
    "db = MySQLdb.connect(host=\"localhost\",    # your host, usually localhost\n",
    "                 user=\"root\",         # your username\n",
    "                 passwd=\"\",  # your password\n",
    "                 db=\"oozacoke_scratch\")  # name of the data base\n",
    "db.query(sql)\n",
    "\n",
    "db.commit()\n",
    "\n",
    "db.close()\n",
    "    #time.sleep(10)"
   ]
  }
 ],
 "metadata": {
  "kernelspec": {
   "display_name": "Python 3",
   "language": "python",
   "name": "python3"
  },
  "language_info": {
   "codemirror_mode": {
    "name": "ipython",
    "version": 3
   },
   "file_extension": ".py",
   "mimetype": "text/x-python",
   "name": "python",
   "nbconvert_exporter": "python",
   "pygments_lexer": "ipython3",
   "version": "3.6.5"
  }
 },
 "nbformat": 4,
 "nbformat_minor": 2
}
