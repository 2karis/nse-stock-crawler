{
 "cells": [
  {
   "cell_type": "code",
   "execution_count": 1,
   "metadata": {},
   "outputs": [],
   "source": [
    "import mechanicalsoup\n",
    "from bs4 import BeautifulSoup\n",
    "import re\n",
    "import MySQLdb\n",
    "import json\n"
   ]
  },
  {
   "cell_type": "code",
   "execution_count": 2,
   "metadata": {},
   "outputs": [
    {
     "data": {
      "text/plain": [
       "<Response [200]>"
      ]
     },
     "execution_count": 2,
     "metadata": {},
     "output_type": "execute_result"
    }
   ],
   "source": [
    "browser = mechanicalsoup.StatefulBrowser()\n",
    "browser.open(\"https://onlinetrading.nse.co.ke/tradeweb111/\")"
   ]
  },
  {
   "cell_type": "code",
   "execution_count": 3,
   "metadata": {
    "collapsed": true
   },
   "outputs": [
    {
     "ename": "FileNotFoundError",
     "evalue": "[Errno 2] No such file or directory: 'pass.txt'",
     "output_type": "error",
     "traceback": [
      "\u001b[1;31m---------------------------------------------------------------------------\u001b[0m",
      "\u001b[1;31mFileNotFoundError\u001b[0m                         Traceback (most recent call last)",
      "\u001b[1;32m<ipython-input-3-fd0aad35cd8e>\u001b[0m in \u001b[0;36m<module>\u001b[1;34m()\u001b[0m\n\u001b[1;32m----> 1\u001b[1;33m \u001b[0mfile\u001b[0m \u001b[1;33m=\u001b[0m \u001b[0mopen\u001b[0m\u001b[1;33m(\u001b[0m\u001b[1;34m'pass.txt'\u001b[0m\u001b[1;33m,\u001b[0m \u001b[1;34m'r'\u001b[0m\u001b[1;33m)\u001b[0m\u001b[1;33m\u001b[0m\u001b[0m\n\u001b[0m\u001b[0;32m      2\u001b[0m \u001b[0mpassword\u001b[0m \u001b[1;33m=\u001b[0m\u001b[0mstr\u001b[0m\u001b[1;33m(\u001b[0m\u001b[0mfile\u001b[0m\u001b[1;33m.\u001b[0m\u001b[0mread\u001b[0m\u001b[1;33m(\u001b[0m\u001b[1;33m)\u001b[0m\u001b[1;33m)\u001b[0m\u001b[1;33m\u001b[0m\u001b[0m\n",
      "\u001b[1;31mFileNotFoundError\u001b[0m: [Errno 2] No such file or directory: 'pass.txt'"
     ]
    }
   ],
   "source": [
    "file = open('pass.txt', 'r') \n",
    "password =str(file.read())"
   ]
  },
  {
   "cell_type": "code",
   "execution_count": 4,
   "metadata": {
    "scrolled": true
   },
   "outputs": [],
   "source": [
    "browser.select_form(nr=0)\n",
    "\n",
    "# User credentials\n",
    "browser['txtLogin'] = 'karis'\n",
    "browser['txtPassword'] = 'wave1236'\n",
    "\n",
    "# Login\n",
    "browser.submit_selected()\n",
    "\n",
    "page = browser.get_current_page()\n"
   ]
  },
  {
   "cell_type": "code",
   "execution_count": 5,
   "metadata": {},
   "outputs": [],
   "source": [
    "#browser.open('https://onlinetrading.nse.co.ke/tradeweb111/TWHome.aspx')\n",
    "#https://onlinetrading.nse.co.ke/tradeweb111/MarketDetails.aspx?wl=Default\n",
    "page = browser.get_current_page()"
   ]
  },
  {
   "cell_type": "code",
   "execution_count": 6,
   "metadata": {},
   "outputs": [],
   "source": [
    "soup = BeautifulSoup(str(page), 'lxml')\n",
    "\n",
    "div = soup.find(\"div\", {\"class\": \"CSPLTickerContainer\"})\n",
    "ul =  div.find(\"ul\")\n",
    "li =  ul.find(\"li\")\n"
   ]
  },
  {
   "cell_type": "code",
   "execution_count": 7,
   "metadata": {},
   "outputs": [],
   "source": [
    "tickers = []\n",
    "for li in ul:\n",
    "    combo = li.text.split('|', 1)[0]\n",
    "    security_price, change = combo.split(' ')\n",
    "    security = re.split('(\\d+)',security_price)\n",
    "    price = ''.join(security[1:4])\n",
    "    #items.append([security[0] ,price , change])\n",
    "    \n",
    "    # here is where we can turn them into json objects\n",
    "    tickers.append({'security': security[0], 'price': price, 'price_change': change})\n",
    "    \n",
    "\n"
   ]
  },
  {
   "cell_type": "code",
   "execution_count": 8,
   "metadata": {},
   "outputs": [
    {
     "data": {
      "text/plain": [
       "[{'security': 'ARM', 'price': '3.10', 'price_change': '0.25'},\n",
       " {'security': 'BAMB', 'price': '184.00', 'price_change': '4.00'},\n",
       " {'security': 'BBK', 'price': '11.75', 'price_change': '-0.10'},\n",
       " {'security': 'BERG', 'price': '80.00', 'price_change': '0.00'},\n",
       " {'security': 'BOC', 'price': '90.00', 'price_change': '4.00'},\n",
       " {'security': 'BRIT', 'price': '14.65', 'price_change': '0.15'},\n",
       " {'security': 'CABL', 'price': '3.75', 'price_change': '0.05'},\n",
       " {'security': 'CARB', 'price': '11.60', 'price_change': '0.50'},\n",
       " {'security': 'CFC', 'price': '92.00', 'price_change': '1.00'},\n",
       " {'security': 'CFCI', 'price': '13.70', 'price_change': '0.10'},\n",
       " {'security': 'CIC', 'price': '4.60', 'price_change': '0.00'},\n",
       " {'security': 'COOP', 'price': '17.50', 'price_change': '0.00'},\n",
       " {'security': 'DCON', 'price': '1.25', 'price_change': '0.00'},\n",
       " {'security': 'DTK', 'price': '199.00', 'price_change': '2.00'},\n",
       " {'security': 'EABL', 'price': '220.00', 'price_change': '1.00'},\n",
       " {'security': 'EQT', 'price': '46.25', 'price_change': '-1.00'},\n",
       " {'security': 'EVRD', 'price': '1.60', 'price_change': '0.10'},\n",
       " {'security': 'FAHR', 'price': '11.30', 'price_change': '0.30'},\n",
       " {'security': 'FIRE', 'price': '2.80', 'price_change': '0.15'},\n",
       " {'security': 'FTGH', 'price': '3.55', 'price_change': '0.00'},\n",
       " {'security': 'HAFR', 'price': '0.85', 'price_change': '-0.05'},\n",
       " {'security': 'HFCK', 'price': '8.40', 'price_change': '0.10'},\n",
       " {'security': 'I&M', 'price': '115.00', 'price_change': '0.00'},\n",
       " {'security': 'ICDC', 'price': '37.75', 'price_change': '0.00'},\n",
       " {'security': 'JUB', 'price': '515.00', 'price_change': '12.00'},\n",
       " {'security': 'KCB', 'price': '46.25', 'price_change': '0.50'},\n",
       " {'security': 'KEGN', 'price': '7.00', 'price_change': '0.00'},\n",
       " {'security': 'KENO', 'price': '18.00', 'price_change': '-0.35'},\n",
       " {'security': 'KNRE', 'price': '15.95', 'price_change': '-0.25'},\n",
       " {'security': 'KPLC', 'price': '6.80', 'price_change': '-0.10'},\n",
       " {'security': 'KQ', 'price': '11.00', 'price_change': '0.05'},\n",
       " {'security': 'LKL', 'price': '4.20', 'price_change': '-0.05'},\n",
       " {'security': 'MSC', 'price': '0.75', 'price_change': '0.00'},\n",
       " {'security': 'NBK', 'price': '6.25', 'price_change': '0.10'},\n",
       " {'security': 'NBV', 'price': '1.70', 'price_change': '0.00'},\n",
       " {'security': 'NIC', 'price': '35.50', 'price_change': '-0.25'},\n",
       " {'security': 'NMG', 'price': '90.00', 'price_change': '0.00'},\n",
       " {'security': 'NSE', 'price': '18.00', 'price_change': '0.70'},\n",
       " {'security': 'OCH', 'price': '2.80', 'price_change': '-0.20'},\n",
       " {'security': 'SASN', 'price': '22.00', 'price_change': '0.00'},\n",
       " {'security': 'SCAN', 'price': '15.55', 'price_change': '-0.20'},\n",
       " {'security': 'SCBK', 'price': '198.00', 'price_change': '1.00'},\n",
       " {'security': 'SCOM', 'price': '29.25', 'price_change': '-0.50'},\n",
       " {'security': 'SGL', 'price': '26.50', 'price_change': '-2.75'},\n",
       " {'security': 'TCL', 'price': '4.00', 'price_change': '-0.20'},\n",
       " {'security': 'TOTL', 'price': '28.25', 'price_change': '-1.50'},\n",
       " {'security': 'TPS', 'price': '30.00', 'price_change': '2.00'},\n",
       " {'security': 'UCHM', 'price': '1.45', 'price_change': '0.00'},\n",
       " {'security': 'UMME', 'price': '8.40', 'price_change': '0.00'},\n",
       " {'security': 'WTK', 'price': '139.00', 'price_change': '0.00'}]"
      ]
     },
     "execution_count": 8,
     "metadata": {},
     "output_type": "execute_result"
    }
   ],
   "source": [
    "tickers"
   ]
  },
  {
   "cell_type": "code",
   "execution_count": null,
   "metadata": {},
   "outputs": [],
   "source": []
  }
 ],
 "metadata": {
  "kernelspec": {
   "display_name": "Python 3",
   "language": "python",
   "name": "python3"
  },
  "language_info": {
   "codemirror_mode": {
    "name": "ipython",
    "version": 3
   },
   "file_extension": ".py",
   "mimetype": "text/x-python",
   "name": "python",
   "nbconvert_exporter": "python",
   "pygments_lexer": "ipython3",
   "version": "3.5.2"
  }
 },
 "nbformat": 4,
 "nbformat_minor": 2
}
